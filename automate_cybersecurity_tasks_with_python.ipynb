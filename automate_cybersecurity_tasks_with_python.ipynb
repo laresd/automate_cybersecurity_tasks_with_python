{
 "cells": [
  {
   "cell_type": "markdown",
   "id": "eb515762",
   "metadata": {},
   "source": [
    "# Programmierung eines Python-Algorithmus zur automatischen Aktualisierung einer Datei\n",
    "\n",
    "## Projektbeschreibung\n",
    "\n",
    "In diesem Projekt geht es darum, den Zugriff auf zugangsbeschränkte Inhalte anhand einer Textdatei mit einer Liste von IP-Adressen zu kontrollieren. Die Textdatei `'allow_list.txt'` enthält die Allow-Liste mit den IP-Adressen, die auf die zugangsbeschränkten Inhalte zugreifen dürfen. In einer separaten Remove-Liste sind die IP-Adressen aufgeführt, die keinen Zugriff mehr auf diese Inhalte haben und deshalb von der Allow-Liste entfernt werden sollen. Nachfolgend habe ich einen Algorithmus in Python programmiert, der die Datei `'allow_list.txt'` automatisch aktualisiert, indem er die IP-Adressen von der Allow-Liste entfernt, die keine Zugriffsberechtigung mehr haben.\n",
    "\n",
    "## Die Datei mit der Allow-Liste öffnen\n",
    "\n",
    "Als erstes habe ich den Namen der Textdatei, `'allow_list.txt'`, als String der Variablen `import_file` zugewiesen. Die Textdatei enthält die Allow-Liste mit den IP-Adressen, die Zugriff auf die zugangsbeschränkten Inhalte erhalten sollen. Als zweites habe ich die Remove-Liste mit den IP-Adressen, die von der Allow-Liste entfernt werden sollen, der Variablen `remove_list` zugewiesen."
   ]
  },
  {
   "cell_type": "code",
   "execution_count": 1,
   "id": "6973b844",
   "metadata": {},
   "outputs": [],
   "source": [
    "# Weise den Dateinamen `import_list.txt` der Variablen import_file zu.\n",
    "\n",
    "import_file = 'allow_list.txt'\n",
    "\n",
    "# Weise die Liste mit den IP-Adressen, die von der Allow-Liste entfernt werden sollen, der Variablen `remove_list` zu.\n",
    "\n",
    "remove_list = [\"192.168.97.225\", \"192.168.158.170\", \"192.168.201.40\", \"192.168.58.57\"]"
   ]
  },
  {
   "cell_type": "markdown",
   "id": "ca6f5bc7",
   "metadata": {},
   "source": [
    "Als nächstes habe ich eine `with` Anweisung verwendet, um die Datei zu öffnen:"
   ]
  },
  {
   "cell_type": "code",
   "execution_count": null,
   "id": "c4eeb81c",
   "metadata": {},
   "outputs": [],
   "source": [
    "# Erstelle eine `with` Anweisung, um den Inhalt der Datei einzulesen.\n",
    "\n",
    "with open(import_file, 'r') as file:"
   ]
  },
  {
   "cell_type": "markdown",
   "id": "000f9e50",
   "metadata": {
    "scrolled": true
   },
   "source": [
    "Der Algorithmus verwendet den Code `with open(import_file, 'r') as file:`, um die Textdatei `'allow_list.txt'` zu öffnen. Die `with` Anweisung hilft bei der Verwaltung der Systemressourcen, indem es die Datei nach Beendigung der `with` Anweisung wieder schließt. Die `open()` Funktion hat zwei Parameter. Der erste Parameter, `import_file`, gibt die zu importierende Datei an. Der zweite Parameter, `'r'`, gibt an, dass auf die Datei im Lesemodus zugegriffen wird. Das `as` Schlüsselwort gibt die Anweisung, dass die Ausgabe der `open()` Funktion, in diesem Fall die Allow-Liste mit den IP-Adressen, in einer Variable namens `file` gespeichert wird.\n",
    "\n",
    "## Den Inhalt der Datei lesen\n",
    "\n",
    "Um den Inhalt der Datei zu lesen, verwendet der Algorithmus die `.read()` Methode, um ihn in einen String umzuwandeln."
   ]
  },
  {
   "cell_type": "code",
   "execution_count": 2,
   "id": "efad27ce",
   "metadata": {},
   "outputs": [
    {
     "name": "stdout",
     "output_type": "stream",
     "text": [
      "192.168.25.60\n",
      "192.168.205.12\n",
      "192.168.97.225\n",
      "192.168.6.9\n",
      "192.168.52.90\n",
      "192.168.158.170\n",
      "192.168.90.124\n",
      "192.168.186.176\n",
      "192.168.133.188\n",
      "192.168.203.198\n",
      "192.168.201.40\n",
      "192.168.218.219\n",
      "192.168.52.37\n",
      "192.168.156.224\n",
      "192.168.60.153\n",
      "192.168.58.57\n",
      "192.168.69.116\n"
     ]
    }
   ],
   "source": [
    "with open(import_file, 'r') as file:\n",
    "\n",
    "\t# Verwende die `.read()` Methode, um den Inhalt der importierten Datei zu lesen, und weise ihn der Variable `ip_addresses` zu.\n",
    "\t\n",
    "\tip_addresses = file.read()\n",
    "    \n",
    "# Gib den Inhalt der Allow-Liste aus.\n",
    "\n",
    "print(ip_addresses)"
   ]
  },
  {
   "cell_type": "markdown",
   "id": "cfa3e617",
   "metadata": {},
   "source": [
    "Da die `open()` Funktion den Parameter `'r'` für den Lesemodus enthält, kann die `.read()` Methode innerhalb der `with` Anweisung verwendet werden. Die `.read()` Methode wandelt den Inhalt einer Datei in einen String um und ermöglicht es, ihn auf diese Weise zu lesen. In diesem Fall wird die `.read()` Methode auf die in der `with` Anweisung angegebene Variable, hier die Variable `file`, angewendet. Anschließend wird der ausgegebene String einer Variablen namens `ip_addresses` zugewiesen. Die `print()` Funktion gibt den aktuellen Inhalt der Allow-Liste aus.\n",
    "\n",
    "## Den String in eine Liste umwandeln\n",
    "\n",
    "Damit einzelne IP-Adressen aus der Allow-Liste entfernt werden können, muss sie im Listenformat vorliegen. Daher verwendet der Algorithmus die `.split()` Methode, die den in der Variablen `ip_addresses` enthaltenen String in eine Liste umwandelt:"
   ]
  },
  {
   "cell_type": "code",
   "execution_count": null,
   "id": "b5f03757",
   "metadata": {},
   "outputs": [],
   "source": [
    "# Verwende die `.split()` Methode, um den String `ip_addresses` in eine Liste umzuwandeln.\n",
    "\n",
    "ip_addresses = ip_addresses.split()"
   ]
  },
  {
   "cell_type": "markdown",
   "id": "0cff44b4",
   "metadata": {},
   "source": [
    "Die `.split()` Methode wird aufgerufen, indem sie an eine String-Variable angehängt wird. Sie wandelt den Inhalt eines Strings in eine Liste um. Standardmäßig teilt die `.split()` Methode einen String anhand eines Trennzeichens in einzelne Listenelemente. In diesem Algorithmus nimmt die `.split()` Methode die in der Variablen `ip_addresses` gespeicherten Daten, in diesem Fall eine Zeichenfolge von IP-Adressen, die jeweils durch ein Leerzeichen getrennt sind, und wandelt diese Zeichenfolge in eine Liste von IP-Adressen um. Um diese Liste zu speichern, wird sie wieder der Variablen `ip_addresses` zugewiesen.\n",
    "\n",
    "## Die Remove-Liste wiederholt durchlaufen\n",
    "\n",
    "Ein wichtiger Bestandteil des Algorithmus besteht darin, die IP-Adressen zu durchlaufen, die auf der Liste `remove_list` stehen. Zu diesem Zweck habe ich eine `for` Schleife eingebaut:"
   ]
  },
  {
   "cell_type": "code",
   "execution_count": null,
   "id": "5913ae07",
   "metadata": {},
   "outputs": [],
   "source": [
    "# Erstelle eine `for` Schleife,\n",
    "# nenne die Schleifenvariable `element`\n",
    "# und durchlaufe die Liste 'remove_list'.\n",
    "\n",
    "for element in remove_list:"
   ]
  },
  {
   "cell_type": "markdown",
   "id": "75bd850c",
   "metadata": {},
   "source": [
    "Die `for` Schleife in Python wiederholt den Code für eine bestimmte Sequenz. Der allgemeine Zweck der `for` Schleife in einem Python-Algorithmus wie diesem besteht darin, bestimmte Code-Anweisungen auf alle Elemente einer Sequenz anzuwenden. Das Schlüsselwort `for` leitet die `for` Schleife ein. Es folgt die Schleifenvariable `element` und das Schlüsselwort `in`. Das Schlüsselwort `in` gibt an, dass der Algorithmus die Sequenz `ip_addresses` durchläuft und jeden Wert der Schleifenvariable `element` zuweist.\n",
    "\n",
    "## IP-Adressen entfernen, die auf der Remove-Liste stehen\n",
    "\n",
    "Der Algorithmus entfernt jede IP-Adresse aus der Allow-Liste `ip_addresses`, die in der Remove-Liste `remove_list` enthalten sind. Da es in `ip_addresses` keine Duplikate gibt, kann der folgende Code dafür verwendet werden:"
   ]
  },
  {
   "cell_type": "code",
   "execution_count": null,
   "id": "bc195f6f",
   "metadata": {},
   "outputs": [],
   "source": [
    "for element in remove_list:\n",
    "\n",
    "\t# Erstelle eine `if` Bedingung, um zu prüfen, ob `element` in `ip_addresses` enthalten ist.\n",
    "\n",
    "\tif element in ip_addresses:\n",
    "\n",
    "\t\t# Verwende die `.remove()` Methode, um Elemente von der Liste `ip_addresses` zu entfernen.\n",
    "\n",
    "\t\tip_addresses.remove(element)"
   ]
  },
  {
   "cell_type": "markdown",
   "id": "c03ff4ca",
   "metadata": {},
   "source": [
    "Zunächst überprüft eine `if` Bedingung innerhalb der `for` Schleife, ob die Schleifenvariable `element` in der Allow-Liste `ip_addresses` enthalten ist. Diese Überprüfung ist erforderlich, da die Anwendung der `.remove()` Methode auf Elemente, die nicht in `ip_addresses` enthalten sind, sonst zu einem Fehler führen würde.\n",
    "\n",
    "In dem Code-Abschnitt `ip_addresses.remove(element)` wird dann die `.remove()` Methode auf `ip_addresses` angewendet. Die Schleifenvariable `element` wird als Argument übergeben, so dass jede IP-Adresse, die in der Remove-Liste `remove_list` enthalten ist, aus der Allow-Liste `ip_addresses` entfernt wird.\n",
    "\n",
    "## Die Datei mit der überarbeiteten Liste der IP-Adressen aktualisieren\n",
    "\n",
    "Im letzten Schritt aktualisiert der Algorithmus die Textdatei `'allow_list.txt'` mit der überarbeiteten Liste der IP-Adressen. Dazu muss die Allow-Liste `ip_addresses` zunächst wieder in einen String umgewandelt werden. Hierfür verwendet der Algorithmus die `.join()` Methode:"
   ]
  },
  {
   "cell_type": "code",
   "execution_count": null,
   "id": "6121e92f",
   "metadata": {},
   "outputs": [],
   "source": [
    "# Wandel die Allow-Liste `ip_addresses` wieder in einen String um, damit es in die Textdatei geschrieben werden kann.\n",
    "\n",
    "ip_addresses = '\\n'.join(ip_addresses)"
   ]
  },
  {
   "cell_type": "markdown",
   "id": "88a79111",
   "metadata": {},
   "source": [
    "In Python kombiniert die `.join()` Methode alle Elemente in einer Liste zu einem String. In diesem Fall verwendet der Algorithmus die `.join()` Methode, um einen String aus der Allow-Liste `ip_addresses` zu erstellen. Die Zeichenfolge `('\\n')` stellt das Trennzeichen dar und weist Python an, jedes Element innerhalb des Strings in eine neue Zeile zu schreiben.\n",
    "\n",
    "Im nächsten Schritt wird `ip_addresses` als Argument an die `.write()` Methode übergeben. Die `.write()` Methode überschreibt dann den vorhandenen Inhalt der Textdatei `'allow_list.txt'` mit der überarbeiteten Allow-Liste `ip_addresses` im String-Format:"
   ]
  },
  {
   "cell_type": "code",
   "execution_count": null,
   "id": "bf09fd37",
   "metadata": {},
   "outputs": [],
   "source": [
    "# Erstelle eine `with` Anweisung, um die Textdatei zu aktualisieren.\n",
    "\n",
    "with open(import_file, 'w') as file:\n",
    "\n",
    "\t# Überschreibe den Inhalt der Textdatei mit der aktualisierten Liste `ip_addresses`.\n",
    "\n",
    "\tfile.write(ip_addresses)"
   ]
  },
  {
   "cell_type": "markdown",
   "id": "c0055060",
   "metadata": {},
   "source": [
    "In dem Code-Abschnitt `with open(import_file, 'w') as file:` werden in der `with` Anweisung zwei Parameter an die `open()` Funktion übergeben: der erste Parameter `import_file` verweist auf die Textdatei `'allow_list.txt'`, der zweite Parameter `'w'` zeigt an, dass die Textdatei im Schreibmodus geöffnet werden soll. Sobald der Parameter `'w'` an die `open()` Funktion übergeben wird, kann die `.write()` Methode innerhalb der Funktion verwendet werden. In Python schreibt die `.write()` Methode einen String in eine vorgegebene Datei und ersetzt dabei den vorhandenen Dateiinhalt.\n",
    "\n",
    "In diesem Fall wendet der Algorithmus die `.write()` Methode auf die in der `with` Anweisung angegebene Variable `file` an und übergibt die Allow-Liste `ip_addresses` als Argument. Damit überschreibt die `.write()` Methode den Inhalt der Textdatei `'allow_list.txt'` mit der überarbeiteten Allow-Liste `ip_addresses`. Auf diese Weise sind die zugangsbeschränkten Inhalte für diejenigen IP-Adressen, die aus der Allow-Liste entfernt wurden, nicht mehr zugänglich.\n",
    "\n",
    "## Zusammenfassung\n",
    "\n",
    "In diesem Projekt habe ich einen Python-Algorithmus entwickelt, der automatisch eine Textdatei mit IP-Adressen aktualisiert.\n",
    "\n",
    "Die Textdatei `'allow_list.txt'` enthält die Allow-Liste mit den IP-Adressen, die auf die zugangsbeschränkten Inhalte im Unternehmensnetzwerk zugreifen dürfen. Als erstes öffnet der Algorithmus die Textdatei und liest den Inhalt im String-Format ein. Danach wird der String in eine Liste umgewandelt und der Variablen `ip_addresses` zugewiesen.\n",
    "\n",
    "Anschließend durchläuft der Algorithmus in einer `for` Schleife die Remove-Liste `remove_list`. Die Remove-Liste enthält die IP-Adressen, die von der Allow-Liste entfernt werden sollen. Der Algorithmus überprüft für jedes Element in der Remove-Liste, ob es in der Allow-Liste enthalten ist, und entfernt es gegebenenfalls von dieser mit der `.remove()` Methode.\n",
    "\n",
    "Im nächsten Schritt wendet der Algorithmus die `.join()` Methode an, um die Allow-Liste `ip_addresses` wieder in einen String umzuwandeln. Zum Schluss überschreibt der Algorithmus den Inhalt der Textdatei `'allow_list.txt'` mit der überarbeiteten Allow-Liste `ip_addresses` mit Hilfe der `.write()` Methode."
   ]
  },
  {
   "cell_type": "code",
   "execution_count": 3,
   "id": "38dd8d4c",
   "metadata": {},
   "outputs": [
    {
     "name": "stdout",
     "output_type": "stream",
     "text": [
      "192.168.25.60\n",
      "192.168.205.12\n",
      "192.168.97.225\n",
      "192.168.6.9\n",
      "192.168.52.90\n",
      "192.168.158.170\n",
      "192.168.90.124\n",
      "192.168.186.176\n",
      "192.168.133.188\n",
      "192.168.203.198\n",
      "192.168.201.40\n",
      "192.168.218.219\n",
      "192.168.52.37\n",
      "192.168.156.224\n",
      "192.168.60.153\n",
      "192.168.58.57\n",
      "192.168.69.116\n"
     ]
    }
   ],
   "source": [
    "# Weise den Dateinamen `import_list.txt` der Variablen import_file zu.\n",
    "\n",
    "import_file = 'allow_list.txt'\n",
    "\n",
    "# Erstelle eine `with` Anweisung, um den Inhalt der Datei einzulesen.\n",
    "\n",
    "with open(import_file, 'r') as file:\n",
    "\n",
    "\t# Verwende die `.read()` Methode, um den Inhalt der importierten Datei zu lesen, und weise ihn der Variable `ip_addresses` zu.\n",
    "\t\n",
    "\tip_addresses = file.read()\n",
    "\n",
    "# Gib den Inhalt der Allow-Liste aus.\n",
    "\n",
    "print(ip_addresses)"
   ]
  },
  {
   "cell_type": "code",
   "execution_count": 4,
   "id": "d1ade502",
   "metadata": {},
   "outputs": [
    {
     "name": "stdout",
     "output_type": "stream",
     "text": [
      "192.168.25.60\n",
      "192.168.205.12\n",
      "192.168.6.9\n",
      "192.168.52.90\n",
      "192.168.90.124\n",
      "192.168.186.176\n",
      "192.168.133.188\n",
      "192.168.203.198\n",
      "192.168.218.219\n",
      "192.168.52.37\n",
      "192.168.156.224\n",
      "192.168.60.153\n",
      "192.168.69.116\n"
     ]
    }
   ],
   "source": [
    "# Verwende die `.split()` Methode, um den String `ip_addresses` in eine Liste umzuwandeln.\n",
    "\n",
    "ip_addresses = ip_addresses.split()\n",
    "\n",
    "# Erstelle eine `for` Schleife,\n",
    "# nenne die Schleifenvariable `element`\n",
    "# und durchlaufe die Liste 'remove_list'.\n",
    "\n",
    "for element in remove_list:\n",
    "\n",
    "\t# Erstelle eine `if` Bedingung, um zu prüfen, ob `element` in `ip_addresses` enthalten ist.\n",
    "\n",
    "\tif element in ip_addresses:\n",
    "\n",
    "\t\t# Verwende die `.remove()` Methode, um Elemente von der Liste `ip_addresses` zu entfernen.\n",
    "\n",
    "\t\tip_addresses.remove(element)\n",
    "\n",
    "# Wandel die Allow-Liste `ip_addresses` wieder in einen String, damit es in die Textdatei geschrieben werden kann.\n",
    "\n",
    "ip_addresses = '\\n'.join(ip_addresses)\n",
    "\n",
    "# Erstelle eine `with` Anweisung, um die Textdatei zu aktualisieren.\n",
    "\n",
    "with open(import_file, 'w') as file:\n",
    "\n",
    "\t# Überschreibe den Inhalt der Textdatei mit der aktualisierten Liste `ip_addresses`.\n",
    "\n",
    "\tfile.write(ip_addresses)\n",
    "\n",
    "# Gib den Inhalt der überarbeiteten Allow-Liste aus.\n",
    "\n",
    "print(ip_addresses)"
   ]
  },
  {
   "cell_type": "code",
   "execution_count": null,
   "id": "c32b0bbf",
   "metadata": {},
   "outputs": [],
   "source": []
  }
 ],
 "metadata": {
  "kernelspec": {
   "display_name": "Python 3 (ipykernel)",
   "language": "python",
   "name": "python3"
  },
  "language_info": {
   "codemirror_mode": {
    "name": "ipython",
    "version": 3
   },
   "file_extension": ".py",
   "mimetype": "text/x-python",
   "name": "python",
   "nbconvert_exporter": "python",
   "pygments_lexer": "ipython3",
   "version": "3.11.5"
  }
 },
 "nbformat": 4,
 "nbformat_minor": 5
}
